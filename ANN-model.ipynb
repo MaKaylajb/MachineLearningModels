{
 "cells": [
  {
   "cell_type": "code",
   "execution_count": 24,
   "source": [
    "import numpy as np\n",
    "import matplotlib.pyplot as plt\n",
    "from sklearn import datasets, metrics\n",
    "from sklearn.model_selection import train_test_split\n",
    "from sklearn import preprocessing\n",
    "from sklearn.neural_network import MLPClassifier"
   ],
   "outputs": [],
   "metadata": {}
  },
  {
   "cell_type": "code",
   "execution_count": 14,
   "source": [
    "#the digits datasets of *X* image of digits that consists in trainging and target datasets \n",
    "digits=datasets.load_digits()\n",
    "n_samples= len(digits.images)\n",
    "dimention = digits.images[0].shape\n",
    "print(\"The number of samples in digit dataset is {0:d}, the dimention of each image is {1:d} x {1:d}\".format(n_samples,dimention[0]))"
   ],
   "outputs": [
    {
     "output_type": "stream",
     "name": "stdout",
     "text": [
      "The number of samples in digit dataset is 1797, the dimention of each image is 8 x 8\n"
     ]
    }
   ],
   "metadata": {}
  },
  {
   "cell_type": "code",
   "execution_count": 19,
   "source": [
    "#show the first 3 images\n",
    "_,fig=plt.subplots(nrows=1, ncols=3, figsize=(10,10))\n",
    "for ax, image, label in zip (fig, digits.images, digits.target):\n",
    "    ax.set_axis_off()\n",
    "    ax.imshow(image, cmap=plt.cm.gray_r)\n",
    "    ax.set_title(\"Training:%i\" %label)"
   ],
   "outputs": [
    {
     "output_type": "display_data",
     "data": {
      "image/png": "[encoded data removed]",
      "text/plain": [
       "<Figure size 720x720 with 3 Axes>"
      ]
     },
     "metadata": {
      "needs_background": "light"
     }
    }
   ],
   "metadata": {}
  },
  {
   "cell_type": "code",
   "execution_count": 22,
   "source": [
    "#reshapeing the images into a vetor \n",
    "data= digits.images.reshape((n_samples, -1))\n",
    "x_train, x_test, y_train, y_test= train_test_split(data,digits.target, test_size= 0.2, shuffle=False)"
   ],
   "outputs": [],
   "metadata": {}
  },
  {
   "cell_type": "code",
   "execution_count": 28,
   "source": [
    "#train the model MLPC using the training Subset\n",
    "model= MLPClassifier(solver='adam', alpha=1e-5,hidden_layer_sizes=(10,6), random_state=1, max_iter=600)\n",
    "model.fit(x_train, y_train)\n",
    "prediction= model.predict(x_test)"
   ],
   "outputs": [],
   "metadata": {}
  },
  {
   "cell_type": "code",
   "execution_count": 36,
   "source": [
    "_, fig=plt.subplots(nrows=1, ncols=3, figsize=(10,10))\n",
    "for ax, image, predicted in zip(fig, x_test, prediction):\n",
    "    ax.set_axis_off()\n",
    "    image=image.reshape(8,8)\n",
    "    ax.imshow(image,cmap=plt.cm.gray_r)\n",
    "    ax.set_title(f\"prediction:{predicted}\")"
   ],
   "outputs": [
    {
     "output_type": "display_data",
     "data": {
      "image/png": "[encoded data removed]",
      "text/plain": [
       "<Figure size 720x720 with 3 Axes>"
      ]
     },
     "metadata": {
      "needs_background": "light"
     }
    }
   ],
   "metadata": {}
  },
  {
   "cell_type": "code",
   "execution_count": 39,
   "source": [
    "#study the performance of the model\n",
    "\n",
    "print(metrics.classification_report(y_test, prediction))"
   ],
   "outputs": [
    {
     "output_type": "stream",
     "name": "stdout",
     "text": [
      "              precision    recall  f1-score   support\n",
      "\n",
      "           0       0.94      0.94      0.94        35\n",
      "           1       0.89      0.69      0.78        36\n",
      "           2       0.89      0.94      0.92        35\n",
      "           3       0.81      0.59      0.69        37\n",
      "           4       0.83      0.92      0.87        37\n",
      "           5       0.77      0.92      0.84        37\n",
      "           6       0.95      0.97      0.96        37\n",
      "           7       0.92      0.92      0.92        36\n",
      "           8       0.69      0.82      0.75        33\n",
      "           9       0.94      0.89      0.92        37\n",
      "\n",
      "    accuracy                           0.86       360\n",
      "   macro avg       0.86      0.86      0.86       360\n",
      "weighted avg       0.87      0.86      0.86       360\n",
      "\n"
     ]
    }
   ],
   "metadata": {}
  }
 ],
 "metadata": {
  "orig_nbformat": 4,
  "language_info": {
   "name": "python",
   "version": "3.9.5",
   "mimetype": "text/x-python",
   "codemirror_mode": {
    "name": "ipython",
    "version": 3
   },
   "pygments_lexer": "ipython3",
   "nbconvert_exporter": "python",
   "file_extension": ".py"
  },
  "kernelspec": {
   "name": "python3",
   "display_name": "Python 3.9.5 64-bit"
  },
  "interpreter": {
   "hash": "aee8b7b246df8f9039afb4144a1f6fd8d2ca17a180786b69acc140d282b71a49"
  }
 },
 "nbformat": 4,
 "nbformat_minor": 2
}