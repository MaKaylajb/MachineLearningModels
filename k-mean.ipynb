{
 "cells": [
  {
   "cell_type": "code",
   "execution_count": 39,
   "source": [
    "#import packages\n",
    "import matplotlib.pyplot as plt\n",
    "from sklearn.datasets import make_blobs\n",
    "from sklearn.cluster import KMeans\n",
    "from sklearn.preprocessing import StandardScaler\n",
    "from sklearn.metrics import silhouette_score"
   ],
   "outputs": [],
   "metadata": {}
  },
  {
   "cell_type": "code",
   "execution_count": 40,
   "source": [
    "#generate the data using make_blods(), a convience function in sckit-learn to generate synthetic clusters\n",
    "features, true_labes= make_blobs(n_samples=200, centers=3, cluster_std=2.75, random_state=42)"
   ],
   "outputs": [],
   "metadata": {}
  },
  {
   "cell_type": "code",
   "execution_count": 41,
   "source": [
    "# printing five elements for each of the variable returned by make_blobs.\n",
    "print(features[:5])\n",
    "print(true_labes[:5])"
   ],
   "outputs": [
    {
     "output_type": "stream",
     "name": "stdout",
     "text": [
      "[[  9.77075874   3.27621022]\n",
      " [ -9.71349666  11.27451802]\n",
      " [ -6.91330582  -9.34755911]\n",
      " [-10.86185913 -10.75063497]\n",
      " [ -8.50038027  -4.54370383]]\n",
      "[1 0 2 2 2]\n"
     ]
    }
   ],
   "metadata": {}
  },
  {
   "cell_type": "code",
   "execution_count": 42,
   "source": [
    "#the values for all features must be transforemed to the same scale, the processs of transforming numerical features to use the sam scale is known as features scaling or normalizing the data \n",
    "scaler= StandardScaler()\n",
    "scaled_features= scaler.fit_transform(features)\n",
    "print(scaled_features[:5])"
   ],
   "outputs": [
    {
     "output_type": "stream",
     "name": "stdout",
     "text": [
      "[[ 2.13082109  0.25604351]\n",
      " [-1.52698523  1.41036744]\n",
      " [-1.00130152 -1.56583175]\n",
      " [-1.74256891 -1.76832509]\n",
      " [-1.29924521 -0.87253446]]\n"
     ]
    }
   ],
   "metadata": {}
  },
  {
   "cell_type": "code",
   "execution_count": 43,
   "source": [
    "#initiate the kmeans class\n",
    "kmeans= KMeans(init=\"random\", n_clusters=3, n_init=10, max_iter=3000, random_state=43)"
   ],
   "outputs": [],
   "metadata": {}
  },
  {
   "cell_type": "code",
   "execution_count": 44,
   "source": [
    "#the next step is to fit the nidel with the scaled data\n",
    "kmeans.fit(scaled_features)"
   ],
   "outputs": [
    {
     "output_type": "execute_result",
     "data": {
      "text/plain": [
       "KMeans(init='random', max_iter=3000, n_clusters=3, random_state=43)"
      ]
     },
     "metadata": {},
     "execution_count": 44
    }
   ],
   "metadata": {}
  },
  {
   "cell_type": "code",
   "execution_count": 45,
   "source": [
    "#statistic from the initialization run with the lowest SSE are aviable as attribute pf(point function) kmeans after callling .fit\n",
    "kmeans.inertia_"
   ],
   "outputs": [
    {
     "output_type": "execute_result",
     "data": {
      "text/plain": [
       "74.57960106819853"
      ]
     },
     "metadata": {},
     "execution_count": 45
    }
   ],
   "metadata": {}
  },
  {
   "cell_type": "code",
   "execution_count": 46,
   "source": [
    "#the cluster assigment are stored a one-dimentional numpy array\n",
    "print (kmeans.labels_[:5])\n",
    "print(true_labes[:5])"
   ],
   "outputs": [
    {
     "output_type": "stream",
     "name": "stdout",
     "text": [
      "[2 1 0 0 0]\n",
      "[1 0 2 2 2]\n"
     ]
    }
   ],
   "metadata": {}
  },
  {
   "cell_type": "code",
   "execution_count": 47,
   "source": [
    "#running elbow method to find a appopiate number of clusters\n",
    "kmean_kwargs ={\"init\" : \"random\",\"n_init\":10, \"max_iter\":300,\"random_state\":42}\n",
    "\n",
    "#create empty list to hold the SSE for each k \n",
    "number_of_clusters=20\n",
    "sse=[]\n",
    "for k in range(1,number_of_clusters):\n",
    "        kmeans= KMeans(n_clusters=k, **kmean_kwargs)\n",
    "        kmeans.fit(scaled_features)\n",
    "        sse.append(kmeans.inertia_)"
   ],
   "outputs": [],
   "metadata": {}
  },
  {
   "cell_type": "code",
   "execution_count": 50,
   "source": [
    "plt.style.use(\"fivethirtyeight\")\n",
    "plt.plot(range(1,number_of_clusters),sse)\n",
    "plt.xticks(range(1,number_of_clusters))\n",
    "plt.xlabel(\"number of clusters\")\n",
    "plt.ylabel(\"sse\")\n",
    "print(sse[18])"
   ],
   "outputs": [
    {
     "output_type": "stream",
     "name": "stdout",
     "text": [
      "14.047868159816192\n"
     ]
    },
    {
     "output_type": "display_data",
     "data": {
      "image/png": "[encoded data removed]",
      "text/plain": [
       "<Figure size 432x288 with 1 Axes>"
      ]
     },
     "metadata": {}
    }
   ],
   "metadata": {}
  }
 ],
 "metadata": {
  "orig_nbformat": 4,
  "language_info": {
   "name": "python",
   "version": "3.9.5",
   "mimetype": "text/x-python",
   "codemirror_mode": {
    "name": "ipython",
    "version": 3
   },
   "pygments_lexer": "ipython3",
   "nbconvert_exporter": "python",
   "file_extension": ".py"
  },
  "kernelspec": {
   "name": "python3",
   "display_name": "Python 3.9.5 64-bit"
  },
  "interpreter": {
   "hash": "aee8b7b246df8f9039afb4144a1f6fd8d2ca17a180786b69acc140d282b71a49"
  }
 },
 "nbformat": 4,
 "nbformat_minor": 2
}