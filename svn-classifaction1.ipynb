{
 "cells": [
  {
   "cell_type": "code",
   "execution_count": null,
   "source": [
    "import numpy as np\n",
    "import matplotlib.pyplot as plt\n",
    "from sklearn import svm, datasets"
   ],
   "outputs": [],
   "metadata": {}
  },
  {
   "cell_type": "code",
   "execution_count": null,
   "source": [
    "# import some data to play with\n",
    "iris = datasets.load_iris()\n",
    "x = iris.data[:,:2] # we ony take the first two features\n",
    "y = iris.target"
   ],
   "outputs": [],
   "metadata": {}
  },
  {
   "cell_type": "code",
   "execution_count": null,
   "source": [
    "# we create an instance of SVM and fit out data. \n",
    "C = 1.0 # SVM regularization paramerter\n",
    "svc = svm.SVC(kernel='linear', C=1, gamma= 'auto').fit(x,y)"
   ],
   "outputs": [],
   "metadata": {}
  },
  {
   "cell_type": "code",
   "execution_count": null,
   "source": [
    "# create a mesh to plot in\n",
    "x_min, x_max = x[:,0].min() - 1, x[:,0].max() + 1\n",
    "y_min, y_max = x[:,1].min() - 1, x[:,1].max() + 1\n",
    "h = (x_max/x_min)/100\n",
    "xx, yy = np.meshgrid(np.arange(x_min,x_max,h), np.arange(y_min, y_max, h))"
   ],
   "outputs": [],
   "metadata": {}
  }
 ],
 "metadata": {
  "orig_nbformat": 4,
  "language_info": {
   "name": "python",
   "version": "3.9.5"
  },
  "kernelspec": {
   "name": "python3",
   "display_name": "Python 3.9.5 64-bit"
  },
  "interpreter": {
   "hash": "aee8b7b246df8f9039afb4144a1f6fd8d2ca17a180786b69acc140d282b71a49"
  }
 },
 "nbformat": 4,
 "nbformat_minor": 2
}